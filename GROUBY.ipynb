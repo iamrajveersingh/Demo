{
  "nbformat": 4,
  "nbformat_minor": 0,
  "metadata": {
    "colab": {
      "provenance": [],
      "authorship_tag": "ABX9TyN66uOE/G/H6RT1bd2o6Bd7",
      "include_colab_link": true
    },
    "kernelspec": {
      "name": "python3",
      "display_name": "Python 3"
    },
    "language_info": {
      "name": "python"
    }
  },
  "cells": [
    {
      "cell_type": "markdown",
      "metadata": {
        "id": "view-in-github",
        "colab_type": "text"
      },
      "source": [
        "<a href=\"https://colab.research.google.com/github/iamrajveersingh/Demo/blob/main/GROUBY.ipynb\" target=\"_parent\"><img src=\"https://colab.research.google.com/assets/colab-badge.svg\" alt=\"Open In Colab\"/></a>"
      ]
    },
    {
      "cell_type": "markdown",
      "source": [
        "Let's imagine:\n",
        " **you have a big box of different colored candies, and you want to know how many candies of each color you have. The candies represent your data, and you can use the groupby idea to organize them by color.**\n",
        "\n",
        "**Here's how you can think about it:**\n",
        "\n",
        "\n",
        "1. *Grouping by Color:*\n",
        "You group all the candies by their color. So, all the red candies are together, all the blue candies are together, and so on.\n",
        "\n",
        "2. *Counting or Finding Information:*\n",
        "Once you've grouped them, you can count how many candies are there of each color. You might find that you have more red candies than blue ones.\n"
      ],
      "metadata": {
        "id": "vUqBhabKKQt3"
      }
    },
    {
      "cell_type": "code",
      "execution_count": 12,
      "metadata": {
        "colab": {
          "base_uri": "https://localhost:8080/"
        },
        "id": "C3fnu3AzKNQk",
        "outputId": "6f36ff06-b3ce-4269-bf4e-6b70fafee027"
      },
      "outputs": [
        {
          "output_type": "stream",
          "name": "stdout",
          "text": [
            "Color\n",
            "Blue      7\n",
            "Green     7\n",
            "Red      10\n",
            "Name: Quantity, dtype: int64\n"
          ]
        }
      ],
      "source": [
        "# Imagine this is your box of candies (representing your data)\n",
        "candies = {\n",
        "    'Color': ['Red', 'Blue', 'Red', 'Green', 'Blue', 'Red', 'Green', 'Green'],\n",
        "    'Quantity': [3, 2, 4, 1, 5, 3, 2, 4]\n",
        "}\n",
        "\n",
        "# Create a DataFrame (like a table for your candies)\n",
        "df = pd.DataFrame(candies)\n",
        "\n",
        "# Use groupby to group candies by color\n",
        "grouped_candies = df.groupby('Color')\n",
        "\n",
        "# Count how many candies of each color\n",
        "candy_counts = grouped_candies['Quantity'].sum()\n",
        "\n",
        "# Show the results\n",
        "print(candy_counts)\n"
      ]
    },
    {
      "cell_type": "code",
      "source": [
        "import pandas as pd\n",
        "\n",
        "# Imagine this is your sales data\n",
        "sales_data = {\n",
        "    'Product': ['Laptop', 'Phone', 'Laptop', 'Tablet', 'Phone', 'Laptop', 'Tablet', 'Phone'],\n",
        "    'Amount': [1200, 800, 1100, 300, 750, 1000, 400, 700],\n",
        "    'Region': ['North', 'South', 'North', 'South', 'North', 'South', 'North', 'South']\n",
        "}\n",
        "\n",
        "# Create a DataFrame (like a table for your sales)\n",
        "df_sales = pd.DataFrame(sales_data)\n",
        "\n",
        "# Use groupby to group sales by product category and region\n",
        "grouped_sales = df_sales.groupby(['Product', 'Region'])\n",
        "\n",
        "# Calculate total sales for each product category in each region\n",
        "total_sales = grouped_sales['Amount'].sum()\n",
        "# you also calculate avg:max,min mean etc\n",
        "\n",
        "# Show the results\n",
        "total_sales\n"
      ],
      "metadata": {
        "colab": {
          "base_uri": "https://localhost:8080/"
        },
        "id": "Cu3dNTuVN4Rq",
        "outputId": "95555d76-9050-4908-d784-a183ff63ec65"
      },
      "execution_count": 18,
      "outputs": [
        {
          "output_type": "execute_result",
          "data": {
            "text/plain": [
              "Product  Region\n",
              "Laptop   North     2300\n",
              "         South     1000\n",
              "Phone    North      750\n",
              "         South     1500\n",
              "Tablet   North      400\n",
              "         South      300\n",
              "Name: Amount, dtype: int64"
            ]
          },
          "metadata": {},
          "execution_count": 18
        }
      ]
    },
    {
      "cell_type": "markdown",
      "source": [
        "**Let's explore an alternative approach for analyzing sales data by region without using groupby:**\n",
        "\n",
        "*Let's explore an example of using the pivot_table method in Pandas.\n",
        "Suppose you have a DataFrame representing sales data, and you want to create a summary table that shows the total sales for each product category in each region.*"
      ],
      "metadata": {
        "id": "jCBmICuXSunr"
      }
    },
    {
      "cell_type": "code",
      "source": [
        "import pandas as pd\n",
        "\n",
        "# Imagine this is your sales data\n",
        "sales_data = {\n",
        "    'Product': ['Laptop', 'Phone', 'Laptop', 'Tablet', 'Phone', 'Laptop', 'Tablet', 'Phone'],\n",
        "    'Amount': [1200, 800, 1100, 300, 750, 1000, 400, 700],\n",
        "    'Region': ['North', 'South', 'North', 'South', 'North', 'South', 'North', 'South']\n",
        "}\n",
        "\n",
        "# Create a DataFrame (like a table for your sales)\n",
        "df_sales = pd.DataFrame(sales_data)\n",
        "\n",
        "# Use pivot_table to create a summary table of total sales by product and region\n",
        "summary_table = pd.pivot_table(df_sales, values='Amount', index='Product', columns='Region', aggfunc='sum', fill_value=0)\n",
        "\n",
        "# Show the results\n",
        "print(summary_table)\n"
      ],
      "metadata": {
        "colab": {
          "base_uri": "https://localhost:8080/"
        },
        "id": "GZiEtFPPTc3t",
        "outputId": "f673a400-efb8-4859-dd24-daa5d5474dc1"
      },
      "execution_count": 19,
      "outputs": [
        {
          "output_type": "stream",
          "name": "stdout",
          "text": [
            "Region   North  South\n",
            "Product              \n",
            "Laptop    2300   1000\n",
            "Phone      750   1500\n",
            "Tablet     400    300\n"
          ]
        }
      ]
    },
    {
      "cell_type": "markdown",
      "source": [
        "\n",
        "\n",
        "*   **values:** We specify that we want to aggregate the 'Amount' column.\n",
        "\n",
        "*   **index:** We set 'Product' as the index (rows) of the summary table.\n",
        "\n",
        "*   **columns:** We set 'Region' as the columns of the summary table.\n",
        "\n",
        "*   **aggfunc:** We use 'sum' as the aggregation function to calculate the total sales for  each combination of product and region.\n",
        "\n",
        "*   **fill_value:** We use 0 as the fill value for missing entries (if any).\n",
        "\n",
        "\n",
        "\n",
        "---\n",
        "\n",
        "▶\n",
        "**Pivot tables are powerful for reshaping and summarizing data, and they allow you to easily analyze complex datasets by organizing them into a more structured format.**\n",
        "  \n",
        "\n",
        "\n",
        "\n",
        "\n",
        "\n",
        "\n",
        "\n",
        "\n",
        "\n",
        "\n",
        "\n",
        "\n",
        "\n",
        "\n",
        "\n",
        "\n"
      ],
      "metadata": {
        "id": "CsLYNxbUT1Jo"
      }
    }
  ]
}